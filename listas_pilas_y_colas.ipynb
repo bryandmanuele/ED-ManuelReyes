{
  "nbformat": 4,
  "nbformat_minor": 0,
  "metadata": {
    "colab": {
      "provenance": [],
      "authorship_tag": "ABX9TyPqYpEs8GOHIeQZyXIIMuuK",
      "include_colab_link": true
    },
    "kernelspec": {
      "name": "python3",
      "display_name": "Python 3"
    },
    "language_info": {
      "name": "python"
    }
  },
  "cells": [
    {
      "cell_type": "markdown",
      "metadata": {
        "id": "view-in-github",
        "colab_type": "text"
      },
      "source": [
        "<a href=\"https://colab.research.google.com/github/bryandmanuele/ED-ManuelReyes/blob/main/listas_pilas_y_colas.ipynb\" target=\"_parent\"><img src=\"https://colab.research.google.com/assets/colab-badge.svg\" alt=\"Open In Colab\"/></a>"
      ]
    },
    {
      "cell_type": "code",
      "source": [
        "palabras = {}\n",
        "while True:\n",
        "    p = input(\"Ingrese una palabra(fin para terminar): \")\n",
        ""
      ],
      "metadata": {
        "colab": {
          "base_uri": "https://localhost:8080/",
          "height": 35
        },
        "id": "r3XrVQu0WeRM",
        "outputId": "b9a0379d-4887-4d4b-ff00-dc76a7a42c74"
      },
      "execution_count": 7,
      "outputs": [
        {
          "output_type": "execute_result",
          "data": {
            "text/plain": [
              "'pear'"
            ],
            "application/vnd.google.colaboratory.intrinsic+json": {
              "type": "string"
            }
          },
          "metadata": {},
          "execution_count": 7
        }
      ]
    },
    {
      "cell_type": "code",
      "source": [
        "stack = [3,4,5]\n",
        "stack.append(6)\n",
        "stack.append(7)\n",
        "stack\n",
        "stack.pop()\n",
        "stack"
      ],
      "metadata": {
        "colab": {
          "base_uri": "https://localhost:8080/"
        },
        "id": "gxwX5jWYY29T",
        "outputId": "d2c73400-5a05-4cfa-9aa8-12067770f608"
      },
      "execution_count": 11,
      "outputs": [
        {
          "output_type": "execute_result",
          "data": {
            "text/plain": [
              "[3, 4, 5, 6]"
            ]
          },
          "metadata": {},
          "execution_count": 11
        }
      ]
    },
    {
      "cell_type": "code",
      "source": [
        "def balanceados(expresion):\n",
        "    stack = []\n",
        "    for c in expresion:\n",
        "      if c ==\"(\":\n",
        "        stack.append(c)\n",
        "      elif c == \")\":\n",
        "        if not stack:\n",
        "          return False\n",
        "        stack.pop()\n",
        "    return not stack\n",
        "\n",
        "print(balanceados(\"(3+2)*(5-1)\"))\n",
        "print(balanceado  s(\"((2+3))\"))"
      ],
      "metadata": {
        "colab": {
          "base_uri": "https://localhost:8080/"
        },
        "id": "Hho-qCb5aYhi",
        "outputId": "a0a36cde-019b-4976-8142-b095444a3d1e"
      },
      "execution_count": 13,
      "outputs": [
        {
          "output_type": "stream",
          "name": "stdout",
          "text": [
            "True\n",
            "True\n"
          ]
        }
      ]
    }
  ]
}