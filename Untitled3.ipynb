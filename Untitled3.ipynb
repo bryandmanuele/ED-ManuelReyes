{
  "nbformat": 4,
  "nbformat_minor": 0,
  "metadata": {
    "colab": {
      "provenance": [],
      "authorship_tag": "ABX9TyNr+2ckm1QrKcjSIwJ+tUo6",
      "include_colab_link": true
    },
    "kernelspec": {
      "name": "python3",
      "display_name": "Python 3"
    },
    "language_info": {
      "name": "python"
    }
  },
  "cells": [
    {
      "cell_type": "markdown",
      "metadata": {
        "id": "view-in-github",
        "colab_type": "text"
      },
      "source": [
        "<a href=\"https://colab.research.google.com/github/bryandmanuele/ED-ManuelReyes/blob/main/Untitled3.ipynb\" target=\"_parent\"><img src=\"https://colab.research.google.com/assets/colab-badge.svg\" alt=\"Open In Colab\"/></a>"
      ]
    },
    {
      "cell_type": "code",
      "execution_count": null,
      "metadata": {
        "id": "SAbLimAqVEZj"
      },
      "outputs": [],
      "source": [
        "alumnos = []\n",
        "while True :\n",
        "   p=input(\"Ingresa paálabra (fin para terminr): \") #si escribe fin termina el ciclo\n",
        "   if p.lower() == \"fin\":\n",
        "    break # rompe el ciclo\n",
        "    alumnos.append(p)\n",
        "    print(\"cantidad:\", len(alumnos))\n",
        "    print(\"alumnos:\", alumnos)"
      ]
    },
    {
      "cell_type": "code",
      "source": [
        "pila = []\n",
        "\n",
        "pila.append(google.com)\n",
        "pila.append(wikopedia.org)\n",
        "pila.append(openai.com)\n",
        "print(\"top\", pila[-1]) #ul ultomo sin quitarlo #aqui entendi que mostraramos el anterior pero sin eliminarlo"
      ],
      "metadata": {
        "colab": {
          "base_uri": "https://localhost:8080/",
          "height": 210
        },
        "id": "y73SpOieXnPW",
        "outputId": "1305c7ad-572d-4583-8560-fe951682537c"
      },
      "execution_count": 3,
      "outputs": [
        {
          "output_type": "error",
          "ename": "NameError",
          "evalue": "name 'google' is not defined",
          "traceback": [
            "\u001b[0;31m---------------------------------------------------------------------------\u001b[0m",
            "\u001b[0;31mNameError\u001b[0m                                 Traceback (most recent call last)",
            "\u001b[0;32m/tmp/ipython-input-604225477.py\u001b[0m in \u001b[0;36m<cell line: 0>\u001b[0;34m()\u001b[0m\n\u001b[1;32m      1\u001b[0m \u001b[0mpila\u001b[0m \u001b[0;34m=\u001b[0m \u001b[0;34m[\u001b[0m\u001b[0;34m]\u001b[0m\u001b[0;34m\u001b[0m\u001b[0;34m\u001b[0m\u001b[0m\n\u001b[1;32m      2\u001b[0m \u001b[0;34m\u001b[0m\u001b[0m\n\u001b[0;32m----> 3\u001b[0;31m \u001b[0mpila\u001b[0m\u001b[0;34m.\u001b[0m\u001b[0mappend\u001b[0m\u001b[0;34m(\u001b[0m\u001b[0mgoogle\u001b[0m\u001b[0;34m.\u001b[0m\u001b[0mcom\u001b[0m\u001b[0;34m)\u001b[0m\u001b[0;34m\u001b[0m\u001b[0;34m\u001b[0m\u001b[0m\n\u001b[0m\u001b[1;32m      4\u001b[0m \u001b[0mpila\u001b[0m\u001b[0;34m.\u001b[0m\u001b[0mappend\u001b[0m\u001b[0;34m(\u001b[0m\u001b[0mwikopedia\u001b[0m\u001b[0;34m.\u001b[0m\u001b[0morg\u001b[0m\u001b[0;34m)\u001b[0m\u001b[0;34m\u001b[0m\u001b[0;34m\u001b[0m\u001b[0m\n\u001b[1;32m      5\u001b[0m \u001b[0mpila\u001b[0m\u001b[0;34m.\u001b[0m\u001b[0mappend\u001b[0m\u001b[0;34m(\u001b[0m\u001b[0mopenai\u001b[0m\u001b[0;34m.\u001b[0m\u001b[0mcom\u001b[0m\u001b[0;34m)\u001b[0m\u001b[0;34m\u001b[0m\u001b[0;34m\u001b[0m\u001b[0m\n",
            "\u001b[0;31mNameError\u001b[0m: name 'google' is not defined"
          ]
        }
      ]
    },
    {
      "cell_type": "code",
      "source": [
        "class ColaCircular:\n",
        "    def __init__(self, capacidad):\n",
        "        self.capacidad = capacidad                # Tamaño máximo de la cola\n",
        "        self.cola = [None] * capacidad           # Lista que almacena los elementos\n",
        "        self.front = -1                           # Índice del primer elemento\n",
        "        self.rear = -1                            # Índice del último elemento\n",
        "\n",
        "    def esta_vacia(self):\n",
        "        return self.front == -1                   # True si no hay elementos\n",
        "\n",
        "    def esta_llena(self):\n",
        "        # True si el siguiente lugar de rear es front → no hay espacio\n",
        "        return (self.rear + 1) % self.capacidad == self.front\n",
        "\n",
        "    def encolar(self, dato):\n",
        "        if self.esta_llena():\n",
        "            print(\"⚠️ Cola llena, no se puede agregar:\", dato)\n",
        "            return\n",
        "        if self.esta_vacia():\n",
        "            self.front = 0                        # Si estaba vacía, front apunta al primer elemento\n",
        "        self.rear = (self.rear + 1) % self.capacidad  # Avanza rear circularmente\n",
        "        self.cola[self.rear] = dato                # Guarda el dato en la posición rear\n",
        "        print(f\"✅ {dato} tomó el lugar {self.rear}\")  # Mensaje opcional\n",
        "\n",
        "    def desencolar(self):\n",
        "        if self.esta_vacia():\n",
        "            print(\"⚠️ Cola vacía\")                 # No hay elementos para sacar\n",
        "            return None\n",
        "        dato = self.cola[self.front]               # Guardamos el dato que vamos a sacar\n",
        "        if self.front == self.rear:                # Si era el único elemento\n",
        "            self.front = self.rear = -1            # Cola queda vacía\n",
        "        else:\n",
        "            self.front = (self.front + 1) % self.capacidad  # Avanza front circularmente\n",
        "        print(f\"👋 Atendido: {dato}\")             # Mensaje opcional\n",
        "        return dato\n",
        "\n",
        "# -------------------------------\n",
        "# Simulación paso a paso\n",
        "# -------------------------------\n",
        "\n",
        "cola = ColaCircular(3)   # Creamos una cola circular con capacidad 3\n",
        "\n",
        "# Encolamos 5 archivos\n",
        "cola.encolar(\"doc1.pdf\")\n",
        "cola.encolar(\"tarea.docx\")\n",
        "cola.encolar(\"presentacion.pptx\")\n",
        "\n",
        "# Desencolamos 1 archivo → se liberan espacios\n",
        "cola.desencolar()        # Sale \"\"\n",
        "\n",
        "# Ahora sí podemos encolar de nuevo\n",
        "cola.encolar(\"informe.pdf\")    # Se reutiliza espacio libre al inicio\n",
        "print(\"cola\", ColaCircular)\n",
        " # lo ultimo sale extra poeque no pude ejecutarlo, pero al ejecutarlo deberis salir bien"
      ],
      "metadata": {
        "colab": {
          "base_uri": "https://localhost:8080/"
        },
        "id": "aGBXoEZphTCJ",
        "outputId": "a205b7b0-65ed-4d13-c7e6-dcd44eec19c5"
      },
      "execution_count": 4,
      "outputs": [
        {
          "output_type": "stream",
          "name": "stdout",
          "text": [
            "✅ doc1.pdf tomó el lugar 0\n",
            "✅ tarea.docx tomó el lugar 1\n",
            "✅ presentacion.pptx tomó el lugar 2\n",
            "👋 Atendido: doc1.pdf\n",
            "✅ informe.pdf tomó el lugar 0\n",
            "cola <class '__main__.ColaCircular'>\n"
          ]
        }
      ]
    },
    {
      "cell_type": "markdown",
      "source": [
        "ejercicio 4\n",
        "Usaria Merge Stor ya que es mas rapido con secuencias grandes"
      ],
      "metadata": {
        "id": "tLyQTpbZZTYO"
      }
    },
    {
      "cell_type": "markdown",
      "source": [
        "ejercicio 5 Diferencia entre O(n) y O(n^2) porque rn o(n) es para casos directos, osea no tienen ciclos o algo que haga tardar mas el tiempo de ejecucion y o(n^2) es para cuando ya tenemos un buqle"
      ],
      "metadata": {
        "id": "nK12jz56Zldu"
      }
    },
    {
      "cell_type": "markdown",
      "source": [
        "Ejercicio 6 Usaria bubble sort, ya que esta es mas eficiente en secuencias cortas o pequeñas y en casi ordenadas"
      ],
      "metadata": {
        "id": "2E25OXS0aGUr"
      }
    },
    {
      "cell_type": "markdown",
      "source": [
        "ejercicio 7 LLegaria hasta n=35 antes de que sea muy lento para poder calcular en la version recursiva\n",
        "y con la version iterativa podria llegar mas lejos"
      ],
      "metadata": {
        "id": "bcj4Mj1-anWc"
      }
    },
    {
      "cell_type": "markdown",
      "source": [
        "ejercicio 8"
      ],
      "metadata": {
        "id": "8oYzj7CJfugz"
      }
    },
    {
      "cell_type": "code",
      "source": [
        "Ejercicio 8\n",
        "- busqueda de usuario por ID(1,000,000)\n",
        "- Ordenamiento de productos por precio(10,000)"
      ],
      "metadata": {
        "id": "38rWqepNbUSD"
      },
      "execution_count": null,
      "outputs": []
    },
    {
      "cell_type": "code",
      "source": [
        "import time\n",
        "import random\n",
        "\n",
        "# Generar lista ordenada de 100,000 números\n",
        "lista_grande = sorted(random.sample(range(1, 10000001), 1000000))\n",
        "objetivo = random.choice(lista_grande)\n",
        "\n",
        "def busqueda_lineal(lista, objetivo):\n",
        "    for i in range(len(lista)):\n",
        "        if lista[i] == objetivo:\n",
        "            return i\n",
        "    return -1\n",
        "\n",
        "def busqueda_binaria(lista, objetivo):\n",
        "    izquierda, derecha = 0, len(lista)-1\n",
        "    while izquierda <= derecha:\n",
        "        medio = (izquierda + derecha) // 2\n",
        "        if lista[medio] == objetivo:\n",
        "            return medio\n",
        "        elif lista[medio] < objetivo:\n",
        "            izquierda = medio + 1\n",
        "        else:\n",
        "            derecha = medio - 1\n",
        "    return -1\n",
        "\n",
        "# Medir tiempo búsqueda lineal\n",
        "inicio = time.time()\n",
        "pos_lineal = busqueda_lineal(lista_grande, objetivo)\n",
        "tiempo_lineal = time.time() - inicio\n",
        "\n",
        "# Medir tiempo búsqueda binaria\n",
        "inicio = time.time()\n",
        "pos_binaria = busqueda_binaria(lista_grande, objetivo)\n",
        "tiempo_binaria = time.time() - inicio\n",
        "\n",
        "print(f\"Lista de {len(lista_grande):,} elementos\")\n",
        "print(f\"Objetivo: {objetivo}\")\n",
        "print(f\"Búsqueda lineal: {tiempo_lineal:.6f} segundos\")\n",
        "print(f\"Búsqueda binaria: {tiempo_binaria:.6f} segundos\")\n",
        "print(f\"Diferencia: {tiempo_lineal/tiempo_binaria:.0f} veces más rápido\")"
      ],
      "metadata": {
        "id": "J75oaHGSg09g"
      },
      "execution_count": null,
      "outputs": []
    }
  ]
}